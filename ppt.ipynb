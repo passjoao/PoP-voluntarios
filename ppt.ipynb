{
  "nbformat": 4,
  "nbformat_minor": 0,
  "metadata": {
    "colab": {
      "provenance": [],
      "authorship_tag": "ABX9TyPfkNt0m97hy6cP84mCTUuz"
    },
    "kernelspec": {
      "name": "python3",
      "display_name": "Python 3"
    },
    "language_info": {
      "name": "python"
    }
  },
  "cells": [
    {
      "cell_type": "code",
      "execution_count": null,
      "metadata": {
        "id": "STG8CTQ0Gcdb"
      },
      "outputs": [],
      "source": [
        "import random\n",
        "\n",
        "rand = random.randint(1,3)\n",
        "\n",
        "\n",
        "nmrDgt = int(input('Digite a opção desejada:\\n1 - pedra \\n2 - papel \\n3 - tesoura\\n'))\n",
        "\n",
        "# 1 ganha do 3; 2 ganha do 1; 3 ganha do 2\n",
        "\n",
        "if(nmrDgt <= 3) and (nmrDgt >= 1):\n",
        "  if(nmrDgt == rand):\n",
        "    print('empate, pois a maquina escolheu ' + str(rand))\n",
        "  elif(rand == 1) and (nmrDgt == 3) or (rand == 2) and (nmrDgt == 1) or (rand == 3) and (nmrDgt == 2):\n",
        "    print('A maquina venceu! Escolhendo ' + str(rand))  \n",
        "  else:\n",
        "    print('Parabéns, voce venceu. A maquina escolheu ' + str(rand))\n",
        "else:\n",
        "  print('Digito inválido')  \n",
        "\n",
        "\n",
        "\n",
        "\n",
        "\n"
      ]
    }
  ]
}