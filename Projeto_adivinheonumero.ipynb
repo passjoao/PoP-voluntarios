{
  "nbformat": 4,
  "nbformat_minor": 0,
  "metadata": {
    "colab": {
      "provenance": [],
      "authorship_tag": "ABX9TyM4twSspkcf3JQIL/ZZKzdT",
      "include_colab_link": true
    },
    "kernelspec": {
      "name": "python3",
      "display_name": "Python 3"
    },
    "language_info": {
      "name": "python"
    }
  },
  "cells": [
    {
      "cell_type": "markdown",
      "metadata": {
        "id": "view-in-github",
        "colab_type": "text"
      },
      "source": [
        "<a href=\"https://colab.research.google.com/github/passjoao/PoP-voluntarios/blob/Livia-Rayssa/Projeto_adivinheonumero.ipynb\" target=\"_parent\"><img src=\"https://colab.research.google.com/assets/colab-badge.svg\" alt=\"Open In Colab\"/></a>"
      ]
    },
    {
      "cell_type": "markdown",
      "source": [
        "# 🎯 **Acerte o Número**\n",
        "\n",
        "\n",
        "\n",
        "> Chute um valor de 1 a 50 e tente acertar o valor aleatório gerado pelo programa.\n"
      ],
      "metadata": {
        "id": "_aQgGs8253ko"
      }
    },
    {
      "cell_type": "code",
      "source": [
        "import random\n",
        "\n",
        "valor_aleatorio = random.randint(1,50) #gera um valor aleatorio no intervalo de 1 a 50\n",
        "acertou = False #para continuar rodando ate o acerto\n",
        "while acertou == False:\n",
        "  chute = int(input('Chute um valor entre 1 e 50: '))\n",
        "  if chute > valor_aleatorio:\n",
        "    print('Chutou muito alto... Tente novamente!')\n",
        "  elif chute < valor_aleatorio:\n",
        "    print('Chutou muito baixo... Tente novamente!')\n",
        "  elif chute == valor_aleatorio:\n",
        "    acertou = True #para encerrar depois do acerto\n",
        "    print('Parabens! Voce acertou :)')"
      ],
      "metadata": {
        "colab": {
          "base_uri": "https://localhost:8080/"
        },
        "id": "6FCnncA04ZaQ",
        "outputId": "d5c09871-09cd-4989-d0e5-93f011465ee5"
      },
      "execution_count": 1,
      "outputs": [
        {
          "output_type": "stream",
          "name": "stdout",
          "text": [
            "Chute um valor entre 1 e 50: 9\n",
            "Chutou muito baixo... Tente novamente!\n",
            "Chute um valor entre 1 e 50: 20\n",
            "Chutou muito baixo... Tente novamente!\n",
            "Chute um valor entre 1 e 50: 4\n",
            "Chutou muito baixo... Tente novamente!\n",
            "Chute um valor entre 1 e 50: 40\n",
            "Chutou muito alto... Tente novamente!\n",
            "Chute um valor entre 1 e 50: 30\n",
            "Chutou muito baixo... Tente novamente!\n",
            "Chute um valor entre 1 e 50: 35\n",
            "Chutou muito baixo... Tente novamente!\n",
            "Chute um valor entre 1 e 50: 38\n",
            "Chutou muito alto... Tente novamente!\n",
            "Chute um valor entre 1 e 50: 37\n",
            "Parabens! Voce acertou :)\n"
          ]
        }
      ]
    }
  ]
}